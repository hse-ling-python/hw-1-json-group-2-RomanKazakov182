{
 "cells": [
  {
   "cell_type": "markdown",
   "metadata": {},
   "source": [
    "# Домашнее задание 1 по темам: JSON и типы данных"
   ]
  },
  {
   "cell_type": "markdown",
   "metadata": {},
   "source": [
    "Анализирую информацию о твитах. Вначале импортирую 3 модуля: _json_ (для извлечения информации и преобразования её к виду, типичному для Python), _collections_ (для частотных словарей и удобных сортировок), _re_ (в одном из заданий нужны регулярные выражения)."
   ]
  },
  {
   "cell_type": "code",
   "execution_count": 67,
   "metadata": {
    "scrolled": true
   },
   "outputs": [
    {
     "name": "stdout",
     "output_type": "stream",
     "text": [
      "Requirement already satisfied: pycodestyle in /anaconda3/lib/python3.7/site-packages (2.5.0)\r\n",
      "Requirement already satisfied: flake8 in /anaconda3/lib/python3.7/site-packages (3.7.8)\r\n",
      "Requirement already satisfied: pycodestyle_magic in /anaconda3/lib/python3.7/site-packages (0.4)\r\n",
      "Requirement already satisfied: mccabe<0.7.0,>=0.6.0 in /anaconda3/lib/python3.7/site-packages (from flake8) (0.6.1)\r\n",
      "Requirement already satisfied: pyflakes<2.2.0,>=2.1.0 in /anaconda3/lib/python3.7/site-packages (from flake8) (2.1.1)\r\n",
      "Requirement already satisfied: entrypoints<0.4.0,>=0.3.0 in /anaconda3/lib/python3.7/site-packages (from flake8) (0.3)\r\n"
     ]
    }
   ],
   "source": [
    "import json\n",
    "import collections\n",
    "import re\n",
    "# ! pip install pycodestyle flake8 pycodestyle_magic"
   ]
  },
  {
   "cell_type": "markdown",
   "metadata": {},
   "source": [
    "Проверял код по PEP-8!"
   ]
  },
  {
   "cell_type": "code",
   "execution_count": 68,
   "metadata": {},
   "outputs": [],
   "source": [
    "# %load_ext pycodestyle_magic\n",
    "# %pycodestyle_on"
   ]
  },
  {
   "cell_type": "markdown",
   "metadata": {},
   "source": [
    "Распаковываю файл и сразу же привожу строки в формате _json_ в объект Python с помощью метода .loads() – словарь, в данном случае."
   ]
  },
  {
   "cell_type": "code",
   "execution_count": 69,
   "metadata": {},
   "outputs": [],
   "source": [
    "twitter = []\n",
    "for line in open('hw_3_twitter.json'):\n",
    "    twitter.append(json.loads(line))"
   ]
  },
  {
   "cell_type": "markdown",
   "metadata": {},
   "source": [
    "## Задание 1. Количество твитов  в наборе"
   ]
  },
  {
   "cell_type": "markdown",
   "metadata": {},
   "source": [
    "Считаю длину списка твитов. **Ответ — _number_.**"
   ]
  },
  {
   "cell_type": "code",
   "execution_count": 70,
   "metadata": {
    "scrolled": false
   },
   "outputs": [
    {
     "name": "stdout",
     "output_type": "stream",
     "text": [
      "2556 твитов в наборе.\n"
     ]
    }
   ],
   "source": [
    "number = len(twitter)\n",
    "print(number, 'твитов в наборе.')"
   ]
  },
  {
   "cell_type": "markdown",
   "metadata": {},
   "source": [
    "## Задание 2. Процент удалённых записей"
   ]
  },
  {
   "cell_type": "markdown",
   "metadata": {},
   "source": [
    "Создаю счётчик *score_of_delete*, который увеличивается каждый раз, когда встречает ключ _delete_ в словаре *twit*, который является элементом списка _twitter_ (такие же будут и дальше). Затем высчитывается процент _percents_ удалённых твитов от всех твитов (*number*), затем ответ округляется. **Ответ — _percents_.**"
   ]
  },
  {
   "cell_type": "code",
   "execution_count": 71,
   "metadata": {},
   "outputs": [
    {
     "name": "stdout",
     "output_type": "stream",
     "text": [
      "Удалённые записи составляют 14% твитов.\n"
     ]
    }
   ],
   "source": [
    "score_of_delete = 0\n",
    "for twit in twitter:\n",
    "    if 'delete' in twit:\n",
    "        score_of_delete += 1\n",
    "percents = round(score_of_delete / number * 100)\n",
    "print('Удалённые записи составляют ' + str(percents) + '% твитов.')"
   ]
  },
  {
   "cell_type": "markdown",
   "metadata": {},
   "source": [
    "## Задание 3. Топ-10 популярных языков твитов"
   ]
  },
  {
   "cell_type": "markdown",
   "metadata": {},
   "source": [
    "Ищу в каждом словаре *twit* ключ *lang* и добавляю значения в список *langs*. Создаю частотный словарь с помощью *Counter*, а затем отсортированный список кортежей с помощью *.mostcommon*. Выбираю первые 10 и вывожу. **Ответы — *lang\\[0\\]* (язык) и *lang\\[1\\]* (количество твитов на этом языке).**"
   ]
  },
  {
   "cell_type": "code",
   "execution_count": 72,
   "metadata": {},
   "outputs": [
    {
     "name": "stdout",
     "output_type": "stream",
     "text": [
      "1. en (719 твитов)\n",
      "2. ja (438 твитов)\n",
      "3. es (173 твитов)\n",
      "4. ko (149 твитов)\n",
      "5. th (123 твитов)\n",
      "6. ar (119 твитов)\n",
      "7. und (117 твитов)\n",
      "8. in (71 твитов)\n",
      "9. pt (69 твитов)\n",
      "10. fr (35 твитов)\n"
     ]
    }
   ],
   "source": [
    "langs = []\n",
    "for twit in twitter:\n",
    "    if 'lang' in twit:\n",
    "        langs.append(twit['lang'])\n",
    "counter = collections.Counter(langs)\n",
    "common = counter.most_common(10)\n",
    "n = 0\n",
    "for lang in common:\n",
    "    n += 1\n",
    "    print(str(n) + '.', lang[0], '(' + str(lang[1]), 'твитов)')"
   ]
  },
  {
   "cell_type": "markdown",
   "metadata": {},
   "source": [
    "## Задание 4. Пользователи, написавшие больше 1 твита"
   ]
  },
  {
   "cell_type": "markdown",
   "metadata": {},
   "source": [
    "Ищу в каждом словаре _twit_ ключ *user*. Значение представляет собой номер пользователя по ключу *id*. Добавляю номера пользователей в список *ids*. По схеме из предыдущего задания создаю частотный словарь, а затем список кортежей с помощью *most\\_common*. Затем в список *twits\\_by\\_user* добавляем только частотности (*d\\[1\\]*) больше 1. Считаем длину списка. **Ответ — *len(twits_by_user)*.**"
   ]
  },
  {
   "cell_type": "code",
   "execution_count": 73,
   "metadata": {},
   "outputs": [
    {
     "name": "stdout",
     "output_type": "stream",
     "text": [
      "25 пользователей опубликовали больше одного твита.\n"
     ]
    }
   ],
   "source": [
    "ids = []\n",
    "for twit in twitter:\n",
    "    if 'user' in twit:\n",
    "        user = twit['user']\n",
    "        id_1 = user['id']\n",
    "        ids.append(id_1)\n",
    "counter = collections.Counter(ids)\n",
    "a = counter.most_common()\n",
    "twits_by_user = []\n",
    "for d in a:\n",
    "    if int(d[1]) > 1:\n",
    "        twits_by_user.append(int(d[1]))\n",
    "if twits_by_user == []:\n",
    "    print('Все твиты от разных пользователей.')\n",
    "print(len(twits_by_user), 'пользователей опубликовали больше одного твита.')"
   ]
  },
  {
   "cell_type": "markdown",
   "metadata": {},
   "source": [
    "## Задание 5. Топ-20 хэштегов"
   ]
  },
  {
   "cell_type": "markdown",
   "metadata": {},
   "source": [
    "Аналогично с предыдущими заданиями открываем вложенные словари. Доходим до словаря, в котором соответствует *hashtags* соответствует список словарей, в каждом из которых находится описание хэштега. Проверяем, что список не пустой (часто он как раз пустой). И добавляем значение ключа *text* в новый список *hashtags*. Затем проводим все те же самые операции для частотного словаря и создания топа c помощью списка кортежей. **Ответы – *h\\[0\\]* (хэштег) и *h\\[1\\]* (количество твитов с этим хэштегом).**"
   ]
  },
  {
   "cell_type": "code",
   "execution_count": 74,
   "metadata": {},
   "outputs": [
    {
     "name": "stdout",
     "output_type": "stream",
     "text": [
      "1. #BTS (17 твитов)\n",
      "2. #방탄소년단 (13 твитов)\n",
      "3. #AMAs (11 твитов)\n",
      "4. #人気投票ガチャ (8 твитов)\n",
      "5. #태형 (7 твитов)\n",
      "6. #뷔 (6 твитов)\n",
      "7. #BTSinChicago (5 твитов)\n",
      "8. #BTSLoveYourselfTour (5 твитов)\n",
      "9. #오늘의방탄 (5 твитов)\n",
      "10. #PledgeForSwachhBharat (5 твитов)\n",
      "11. #MPN (5 твитов)\n",
      "12. #PCAs (4 твитов)\n",
      "13. #V (4 твитов)\n",
      "14. #시카고1회차공연 (4 твитов)\n",
      "15. #เป๊กผลิตโชค (4 твитов)\n",
      "16. #JIMIN (4 твитов)\n",
      "17. #running (3 твитов)\n",
      "18. #NCT (3 твитов)\n",
      "19. #지민 (3 твитов)\n",
      "20. #WajahmuPlastik (3 твитов)\n"
     ]
    }
   ],
   "source": [
    "hashtags = []\n",
    "for twit in twitter:\n",
    "    if 'entities' in twit:\n",
    "        entities = twit['entities']\n",
    "        hashts = entities['hashtags']\n",
    "        if hashts != []:\n",
    "            for tag in hashts:\n",
    "                texts_of_hashtags = tag['text']\n",
    "                hashtags.append(texts_of_hashtags)\n",
    "counter = collections.Counter(hashtags)\n",
    "hashtags_common = counter.most_common(20)\n",
    "n = 0\n",
    "for h in hashtags_common:\n",
    "    n += 1\n",
    "    print(str(n) + '.', '#' + h[0], '(' + str(h[1]), 'твитов)')"
   ]
  },
  {
   "cell_type": "markdown",
   "metadata": {},
   "source": [
    "## Задание 6. Частотный словарь основанный на текстах оригинальных твитов на английском языке."
   ]
  },
  {
   "cell_type": "markdown",
   "metadata": {},
   "source": [
    "С помощью ключей в каждом словаре *twit* проверяем наличие английского языка (*twit\\['lang'\\] == 'en'*) и ключа *text*, а также отстутствие ключей *retweeted_status* и *qouted_status* (оригинальными твитами являются твиты без этих параметров). Затем с помощью реглярных выражений и методов строк удаляю ссылки, пунктуацию (кроме ') и привожу текст к нижнему регистру. По пробелам делю текст на слова и вношу их в список *list\\_of\\_words*. Это частотный словарь *counter* (его изначально и нужно было создать), но в Telegram-чате нам сказали сделать ещё топ. Вот, соответственно, топ. **Ответ — частотный словарь *counter*.** Примечание: на занятии нам сказали сообщать, если мы выполняли задания с другими студентами вместе; как раз **пункт 6** я выполнял вместе со студентами **БКЛ182 Никой Смилгой и Ксенией Петуховой.**"
   ]
  },
  {
   "cell_type": "code",
   "execution_count": 78,
   "metadata": {},
   "outputs": [
    {
     "name": "stdout",
     "output_type": "stream",
     "text": [
      "1. the (125 вхождений)\n",
      "2. i (87 вхождений)\n",
      "3. to (85 вхождений)\n",
      "4. a (79 вхождений)\n",
      "5. and (65 вхождений)\n",
      "6. you (51 вхождений)\n",
      "7. is (51 вхождений)\n",
      "8. it (49 вхождений)\n",
      "9. of (45 вхождений)\n",
      "10. for (42 вхождений)\n",
      "11. in (38 вхождений)\n",
      "12. that (37 вхождений)\n",
      "13. this (31 вхождений)\n",
      "14. my (29 вхождений)\n",
      "15. me (28 вхождений)\n",
      "16. be (26 вхождений)\n",
      "17. on (26 вхождений)\n",
      "18. what (21 вхождений)\n",
      "19. are (21 вхождений)\n",
      "20. t (21 вхождений)\n",
      "21. s (21 вхождений)\n",
      "22. so (20 вхождений)\n",
      "23. with (20 вхождений)\n",
      "24. have (19 вхождений)\n",
      "25. your (17 вхождений)\n",
      "26. not (17 вхождений)\n",
      "27. more (17 вхождений)\n",
      "28. but (17 вхождений)\n",
      "29. at (17 вхождений)\n",
      "30. get (16 вхождений)\n",
      "31. can (15 вхождений)\n",
      "32. about (14 вхождений)\n",
      "33. like (14 вхождений)\n",
      "34. he (14 вхождений)\n",
      "35. just (14 вхождений)\n",
      "36. we (13 вхождений)\n",
      "37. all (13 вхождений)\n",
      "38. they (13 вхождений)\n",
      "39. was (12 вхождений)\n",
      "40. only (11 вхождений)\n",
      "41. now (11 вхождений)\n",
      "42. hit (11 вхождений)\n",
      "43. one (11 вхождений)\n",
      "44. up (10 вхождений)\n",
      "45. 0 (10 вхождений)\n",
      "46. if (10 вхождений)\n",
      "47. c (10 вхождений)\n",
      "48. an (10 вхождений)\n",
      "49. time (9 вхождений)\n",
      "50. 6 (9 вхождений)\n"
     ]
    }
   ],
   "source": [
    "list_of_words = []\n",
    "for twit in twitter:\n",
    "    if 'lang' in twit:\n",
    "        if twit['lang'] == 'en':\n",
    "            if ('retweeted_status' not in twit and 'qouted_status' not in twit\n",
    "                    and 'text' in twit):\n",
    "                text = twit['text']\n",
    "                pattern = 'https://.+'\n",
    "                text = re.sub(pattern, '', text)\n",
    "                text = re.sub(r'[^\\w\\s\\']', ' ', text)\n",
    "                text = text.lower()\n",
    "                text_2 = text.split()\n",
    "                list_of_words.extend(text_2)\n",
    "counter = collections.Counter(list_of_words)\n",
    "words_common = counter.most_common(50)\n",
    "num = 0\n",
    "for w in words_common:\n",
    "    num += 1\n",
    "    print(str(num) + '.', w[0], '(' + str(w[1]), 'вхождений)')"
   ]
  },
  {
   "cell_type": "markdown",
   "metadata": {},
   "source": [
    "## Задание 7. Топ-10 авторов твитов с наибольшим количеством подписчиков."
   ]
  },
  {
   "cell_type": "markdown",
   "metadata": {},
   "source": [
    "Аналогично с предыдущими заданиями открываем вложенные словари. Доходим до уровня ключа *followers\\_count* (он находится в словаре-значении от ключа *user*), значение (*follower*) которого — количество подписчиков у данного автора твита; и до ключа *name*, значение (*name*) которого — имя пользователя в том виде, в котором оно стоит в Twitter (с эмодзи, если есть). Добавляю в список все кортежи. Удаляю дубликаты с помощью *set()*. Затем формирую списки с парой *\\[name, follower\\]* и преобразую их в кортежи. Сортирую список кортежей *followers\\_of\\_user* по второму элементу c *sorted* и её параметров (*key=itemgetter(1), reverse=True*). Формирую топ. **Ответы – *g\\[0\\]* (имя пользователя) и *g\\[1\\]* (количество подписчиков).**"
   ]
  },
  {
   "cell_type": "code",
   "execution_count": 80,
   "metadata": {},
   "outputs": [
    {
     "name": "stdout",
     "output_type": "stream",
     "text": [
      "1. Filosofía♕ (2521403 подписчиков)\n",
      "2. FITNESS Magazine (1491309 подписчиков)\n",
      "3. malaysiakini.com (1206759 подписчиков)\n",
      "4. NYT Science (1137374 подписчиков)\n",
      "5. Gramática (625463 подписчиков)\n",
      "6. TGRT Haber (392472 подписчиков)\n",
      "7. The Sun Football ⚽ (383698 подписчиков)\n",
      "8. Melbourne, Australia (374222 подписчиков)\n",
      "9. Roznama Express (318189 подписчиков)\n",
      "10. 💞 ცųཞɠɛཞცơơɠıɛ 💞 (311319 подписчиков)\n"
     ]
    }
   ],
   "source": [
    "from operator import itemgetter\n",
    "followers_of_user = []\n",
    "for twit in twitter:\n",
    "    if 'user' in twit:\n",
    "        user = twit['user']\n",
    "        name = user['name']\n",
    "        follower = user['followers_count']\n",
    "        list_follower = []\n",
    "        list_follower.append(name)\n",
    "        list_follower.append(follower)\n",
    "        tuple_follower = tuple(list_follower)\n",
    "        followers_of_user.append(tuple_follower)\n",
    "followers_of_user = list(set(followers_of_user))\n",
    "followers_of_user = sorted(followers_of_user, key=itemgetter(1), reverse=True)\n",
    "num = 0\n",
    "for g in followers_of_user[:10]:\n",
    "    num += 1\n",
    "    print(str(num) + '.', g[0], '(' + str(g[1]), 'подписчиков)')"
   ]
  },
  {
   "cell_type": "markdown",
   "metadata": {},
   "source": [
    "## Задание 8. Топ-10 источников твитов"
   ]
  },
  {
   "cell_type": "markdown",
   "metadata": {},
   "source": [
    "Достаю в каждом словаре *twit* значение по ключу *source*. С помощью регулярного выражения получаю (*re.findall()*) список источников *result* (в нём, конечно, будет один элемент). В новый список *sources* добавляю элемент из каждого списка *result*. Создаю частотный словарь и топ с помощью методов модуля *collections*. Распечатываю топ. **Ответы – *s\\[0\\]* (источник твитов – приложение) и *s\\[1\\]* (количество твитов, созданных в этом приложении).**"
   ]
  },
  {
   "cell_type": "code",
   "execution_count": 77,
   "metadata": {},
   "outputs": [
    {
     "name": "stdout",
     "output_type": "stream",
     "text": [
      "1. Twitter for iPhone (800 твитов в создано)\n",
      "2. Twitter for Android (695 твитов в создано)\n",
      "3. Twitter Web Client (140 твитов в создано)\n",
      "4. twittbot.net (122 твитов в создано)\n",
      "5. Twitter Lite (51 твитов в создано)\n",
      "6. Twitter for iPad (28 твитов в создано)\n",
      "7. TweetDeck (23 твитов в создано)\n",
      "8. Facebook (17 твитов в создано)\n",
      "9. IFTTT (14 твитов в создано)\n",
      "10. تطبيق قرآني (10 твитов в создано)\n"
     ]
    }
   ],
   "source": [
    "sources = []\n",
    "num = 0\n",
    "for twit in twitter:\n",
    "    if 'source' in twit:\n",
    "        source = twit['source']\n",
    "        result = re.findall(r'\\u003e(.+)\\u003c', source)\n",
    "        sources.extend(result)\n",
    "counter_sources = collections.Counter(sources)\n",
    "common_sources = counter_sources.most_common(10)\n",
    "\n",
    "for s in common_sources:\n",
    "    num += 1\n",
    "    print(str(num) + '.', s[0], '(' + str(s[1]), 'твитов в создано)')"
   ]
  }
 ],
 "metadata": {
  "kernelspec": {
   "display_name": "Python 3",
   "language": "python",
   "name": "python3"
  },
  "language_info": {
   "codemirror_mode": {
    "name": "ipython",
    "version": 3
   },
   "file_extension": ".py",
   "mimetype": "text/x-python",
   "name": "python",
   "nbconvert_exporter": "python",
   "pygments_lexer": "ipython3",
   "version": "3.7.3"
  }
 },
 "nbformat": 4,
 "nbformat_minor": 2
}
